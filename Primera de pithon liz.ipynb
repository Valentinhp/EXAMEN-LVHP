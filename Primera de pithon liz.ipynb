{
  "nbformat": 4,
  "nbformat_minor": 0,
  "metadata": {
    "colab": {
      "provenance": [],
      "authorship_tag": "ABX9TyOruZNa9gWYxP71G6HpQGI6",
      "include_colab_link": true
    },
    "kernelspec": {
      "name": "python3",
      "display_name": "Python 3"
    },
    "language_info": {
      "name": "python"
    }
  },
  "cells": [
    {
      "cell_type": "markdown",
      "metadata": {
        "id": "view-in-github",
        "colab_type": "text"
      },
      "source": [
        "<a href=\"https://colab.research.google.com/github/Valentinhp/EXAMEN-LVHP/blob/main/Primera%20de%20pithon%20liz.ipynb\" target=\"_parent\"><img src=\"https://colab.research.google.com/assets/colab-badge.svg\" alt=\"Open In Colab\"/></a>"
      ]
    },
    {
      "cell_type": "code",
      "execution_count": null,
      "metadata": {
        "id": "oqDbLVfvRndJ"
      },
      "outputs": [],
      "source": []
    },
    {
      "cell_type": "markdown",
      "source": [
        "EJERCICIO 1 TEORIA\n",
        "\n",
        "EXPLICACION SEIRES Y DATAFRAMES DIF Y USOS DE CADA ESTRUCTURA"
      ],
      "metadata": {
        "id": "dXXNQ_0vRn4q"
      }
    },
    {
      "cell_type": "code",
      "source": [
        "import pandas as pd\n",
        "import numpy as np"
      ],
      "metadata": {
        "id": "lwh2fRLXRv5_"
      },
      "execution_count": 5,
      "outputs": []
    },
    {
      "cell_type": "markdown",
      "source": [
        "crear una serie\n"
      ],
      "metadata": {
        "id": "CYsiberVSDx2"
      }
    },
    {
      "cell_type": "code",
      "source": [
        "s =pd.series([1,3,5])"
      ],
      "metadata": {
        "id": "p-MahekjSFdv"
      },
      "execution_count": null,
      "outputs": []
    }
  ]
}